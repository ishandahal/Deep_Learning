{
  "nbformat": 4,
  "nbformat_minor": 0,
  "metadata": {
    "colab": {
      "name": "Torch_Barebones_Api.ipynb",
      "provenance": [],
      "collapsed_sections": [],
      "authorship_tag": "ABX9TyOz0qiiidr1NvGLVXgJHzRS",
      "include_colab_link": true
    },
    "kernelspec": {
      "name": "python3",
      "display_name": "Python 3"
    }
  },
  "cells": [
    {
      "cell_type": "markdown",
      "metadata": {
        "id": "view-in-github",
        "colab_type": "text"
      },
      "source": [
        "<a href=\"https://colab.research.google.com/github/ishandahal/first_repo/blob/master/Torch_Barebones_Api.ipynb\" target=\"_parent\"><img src=\"https://colab.research.google.com/assets/colab-badge.svg\" alt=\"Open In Colab\"/></a>"
      ]
    },
    {
      "cell_type": "markdown",
      "metadata": {
        "id": "Zbjlj0PR2xXP",
        "colab_type": "text"
      },
      "source": [
        "##Getting required packages for the data to be utilized (CIFAR10)"
      ]
    },
    {
      "cell_type": "code",
      "metadata": {
        "id": "wVV6vsK-2c1V",
        "colab_type": "code",
        "colab": {
          "base_uri": "https://localhost:8080/",
          "height": 436
        },
        "outputId": "55fc045c-047a-4c08-c542-b626eba7c4d6"
      },
      "source": [
        "!pip install git+https://github.com/deepvision-class/starter-code"
      ],
      "execution_count": null,
      "outputs": [
        {
          "output_type": "stream",
          "text": [
            "Collecting git+https://github.com/deepvision-class/starter-code\n",
            "  Cloning https://github.com/deepvision-class/starter-code to /tmp/pip-req-build-b9kf2xth\n",
            "  Running command git clone -q https://github.com/deepvision-class/starter-code /tmp/pip-req-build-b9kf2xth\n",
            "Requirement already satisfied (use --upgrade to upgrade): Colab-Utils==0.1.dev0 from git+https://github.com/deepvision-class/starter-code in /usr/local/lib/python3.6/dist-packages\n",
            "Requirement already satisfied: pydrive in /usr/local/lib/python3.6/dist-packages (from Colab-Utils==0.1.dev0) (1.3.1)\n",
            "Requirement already satisfied: google-api-python-client>=1.2 in /usr/local/lib/python3.6/dist-packages (from pydrive->Colab-Utils==0.1.dev0) (1.7.12)\n",
            "Requirement already satisfied: PyYAML>=3.0 in /usr/local/lib/python3.6/dist-packages (from pydrive->Colab-Utils==0.1.dev0) (3.13)\n",
            "Requirement already satisfied: oauth2client>=4.0.0 in /usr/local/lib/python3.6/dist-packages (from pydrive->Colab-Utils==0.1.dev0) (4.1.3)\n",
            "Requirement already satisfied: httplib2<1dev,>=0.17.0 in /usr/local/lib/python3.6/dist-packages (from google-api-python-client>=1.2->pydrive->Colab-Utils==0.1.dev0) (0.17.4)\n",
            "Requirement already satisfied: google-auth-httplib2>=0.0.3 in /usr/local/lib/python3.6/dist-packages (from google-api-python-client>=1.2->pydrive->Colab-Utils==0.1.dev0) (0.0.4)\n",
            "Requirement already satisfied: six<2dev,>=1.6.1 in /usr/local/lib/python3.6/dist-packages (from google-api-python-client>=1.2->pydrive->Colab-Utils==0.1.dev0) (1.15.0)\n",
            "Requirement already satisfied: uritemplate<4dev,>=3.0.0 in /usr/local/lib/python3.6/dist-packages (from google-api-python-client>=1.2->pydrive->Colab-Utils==0.1.dev0) (3.0.1)\n",
            "Requirement already satisfied: google-auth>=1.4.1 in /usr/local/lib/python3.6/dist-packages (from google-api-python-client>=1.2->pydrive->Colab-Utils==0.1.dev0) (1.17.2)\n",
            "Requirement already satisfied: pyasn1>=0.1.7 in /usr/local/lib/python3.6/dist-packages (from oauth2client>=4.0.0->pydrive->Colab-Utils==0.1.dev0) (0.4.8)\n",
            "Requirement already satisfied: rsa>=3.1.4 in /usr/local/lib/python3.6/dist-packages (from oauth2client>=4.0.0->pydrive->Colab-Utils==0.1.dev0) (4.6)\n",
            "Requirement already satisfied: pyasn1-modules>=0.0.5 in /usr/local/lib/python3.6/dist-packages (from oauth2client>=4.0.0->pydrive->Colab-Utils==0.1.dev0) (0.2.8)\n",
            "Requirement already satisfied: cachetools<5.0,>=2.0.0 in /usr/local/lib/python3.6/dist-packages (from google-auth>=1.4.1->google-api-python-client>=1.2->pydrive->Colab-Utils==0.1.dev0) (4.1.1)\n",
            "Requirement already satisfied: setuptools>=40.3.0 in /usr/local/lib/python3.6/dist-packages (from google-auth>=1.4.1->google-api-python-client>=1.2->pydrive->Colab-Utils==0.1.dev0) (49.2.0)\n",
            "Building wheels for collected packages: Colab-Utils\n",
            "  Building wheel for Colab-Utils (setup.py) ... \u001b[?25l\u001b[?25hdone\n",
            "  Created wheel for Colab-Utils: filename=Colab_Utils-0.1.dev0-cp36-none-any.whl size=10323 sha256=eb67dc139536cd1ea0ca5fba21e3a4c42511a438eea1afba3239d25ac85db52e\n",
            "  Stored in directory: /tmp/pip-ephem-wheel-cache-emxw3lmc/wheels/63/d1/27/a208931527abb98d326d00209f46c80c9d745851d6a1defd10\n",
            "Successfully built Colab-Utils\n"
          ],
          "name": "stdout"
        }
      ]
    },
    {
      "cell_type": "markdown",
      "metadata": {
        "id": "xy2gAAW828oY",
        "colab_type": "text"
      },
      "source": [
        "##Setup code "
      ]
    },
    {
      "cell_type": "code",
      "metadata": {
        "id": "6DmdppgV2qxz",
        "colab_type": "code",
        "colab": {}
      },
      "source": [
        "import coutils\n",
        "from coutils import fix_random_seed\n",
        "\n",
        "from collections import OrderedDict\n",
        "import torch\n",
        "import torch.nn as nn\n",
        "import torch.nn.functional as F\n",
        "import torch.optim as optim\n",
        "from torch.utils.data import DataLoader\n",
        "from torch.utils.data import sampler\n",
        "\n",
        "import torchvision.datasets as dset\n",
        "import torchvision.transforms as T\n",
        "\n",
        "# for plotting\n",
        "import matplotlib.pyplot as plt\n",
        "%matplotlib inline\n",
        "plt.rcParams['figure.figsize'] = (10.0, 8.0) # set default size of plots\n",
        "plt.rcParams['image.interpolation'] = 'nearest'\n",
        "plt.rcParams['image.cmap'] = 'gray'"
      ],
      "execution_count": null,
      "outputs": []
    },
    {
      "cell_type": "code",
      "metadata": {
        "id": "RwNYydP44Myy",
        "colab_type": "code",
        "colab": {
          "base_uri": "https://localhost:8080/",
          "height": 69
        },
        "outputId": "4217ba7a-aa75-457b-b151-9e57cec725d1"
      },
      "source": [
        "NUM_TRAIN = 49000\n",
        "\n",
        "# The torchvision.transforms package provides tools for preprocessing data\n",
        "# and for performing data augmentation; here we set up a transform to\n",
        "# preprocess the data by subtracting the mean RGB value and dividing by the\n",
        "# standard deviation of each RGB value; we've hardcoded the mean and std.\n",
        "transform = T.Compose([\n",
        "                T.ToTensor(),\n",
        "                T.Normalize((0.4914, 0.4822, 0.4465), (0.2023, 0.1994, 0.2010))\n",
        "            ])\n",
        "\n",
        "# We set up a Dataset object for each split (train / val / test); Datasets load\n",
        "# training examples one at a time, so we wrap each Dataset in a DataLoader which\n",
        "# iterates through the Dataset and forms minibatches. We divide the CIFAR-10\n",
        "# training set into train and val sets by passing a Sampler object to the\n",
        "# DataLoader telling how it should sample from the underlying Dataset.\n",
        "cifar10_train = dset.CIFAR10('./datasets', train=True, download=True,\n",
        "                             transform=transform)\n",
        "loader_train = DataLoader(cifar10_train, batch_size=64, \n",
        "                          sampler=sampler.SubsetRandomSampler(range(NUM_TRAIN)))\n",
        "\n",
        "cifar10_val = dset.CIFAR10('./datasets', train=True, download=True,\n",
        "                           transform=transform)\n",
        "loader_val = DataLoader(cifar10_val, batch_size=64, \n",
        "                        sampler=sampler.SubsetRandomSampler(range(NUM_TRAIN, 50000)))\n",
        "\n",
        "cifar10_test = dset.CIFAR10('./datasets', train=False, download=True, \n",
        "                            transform=transform)\n",
        "loader_test = DataLoader(cifar10_test, batch_size=64)"
      ],
      "execution_count": null,
      "outputs": [
        {
          "output_type": "stream",
          "text": [
            "Files already downloaded and verified\n",
            "Files already downloaded and verified\n",
            "Files already downloaded and verified\n"
          ],
          "name": "stdout"
        }
      ]
    },
    {
      "cell_type": "markdown",
      "metadata": {
        "id": "ku_RhUzL4ZY_",
        "colab_type": "text"
      },
      "source": [
        "## If GPU is available, it will be used if not fall back is on CPU\n"
      ]
    },
    {
      "cell_type": "code",
      "metadata": {
        "id": "AIFy9d264TSt",
        "colab_type": "code",
        "colab": {
          "base_uri": "https://localhost:8080/",
          "height": 34
        },
        "outputId": "b80a302b-1246-42fc-83f8-f785c6a61009"
      },
      "source": [
        "dtype = torch.float\n",
        "ltype = torch.long\n",
        "\n",
        "if torch.cuda.is_available():\n",
        "  device = torch.device('cuda:0')\n",
        "else:\n",
        "  device = torch.device('cpu')\n",
        "\n",
        "# Constant to control how frequently we print train loss\n",
        "print_every = 100\n",
        "\n",
        "print('using device:', device)"
      ],
      "execution_count": null,
      "outputs": [
        {
          "output_type": "stream",
          "text": [
            "using device: cpu\n"
          ],
          "name": "stdout"
        }
      ]
    },
    {
      "cell_type": "code",
      "metadata": {
        "id": "SYk9qfov4jWC",
        "colab_type": "code",
        "colab": {}
      },
      "source": [
        "### Defining flatten function for convenience\n",
        "def flatten(x, start_dim=1, end_dim=-1):\n",
        "  return x.flatten(start_dim=start_dim, end_dim=end_dim)"
      ],
      "execution_count": null,
      "outputs": []
    },
    {
      "cell_type": "markdown",
      "metadata": {
        "id": "ZuvlqWZf8lLx",
        "colab_type": "text"
      },
      "source": [
        "## Barebones PyTorch for a two layered network."
      ]
    },
    {
      "cell_type": "code",
      "metadata": {
        "id": "e_F3o1Py5-Pq",
        "colab_type": "code",
        "colab": {
          "base_uri": "https://localhost:8080/",
          "height": 34
        },
        "outputId": "39c374f4-dade-483a-8855-85d628ad51a0"
      },
      "source": [
        "def two_layer_fc(x, params):\n",
        "  \"\"\"\n",
        "  A fully-connected neural networks; the architecture is:\n",
        "  NN is fully connected -> ReLU -> fully connected layer.\n",
        "  Note that this function only defines the forward pass; \n",
        "  PyTorch will take care of the backward pass for us.\n",
        "  \n",
        "  The input to the network will be a minibatch of data, of shape\n",
        "  (N, d1, ..., dM) where d1 * ... * dM = D. The hidden layer will have H units,\n",
        "  and the output layer will produce scores for C classes.\n",
        "  \n",
        "  Inputs:\n",
        "  - x: A PyTorch Tensor of shape (N, d1, ..., dM) giving a minibatch of\n",
        "    input data.\n",
        "  - params: A list [w1, w2] of PyTorch Tensors giving weights for the network;\n",
        "    w1 has shape (H, D) and w2 has shape (C, H).\n",
        "  \n",
        "  Returns:\n",
        "  - scores: A PyTorch Tensor of shape (N, C) giving classification scores for\n",
        "    the input data x.\n",
        "  \"\"\"\n",
        "  # first we flatten the image\n",
        "  x = flatten(x)  # shape: [batch_size, C x H x W]\n",
        "  \n",
        "  w1, b1, w2, b2 = params\n",
        "  \n",
        "  # Forward pass: compute predicted y using operations on Tensors. Since w1 and\n",
        "  # w2 have requires_grad=True, operations involving these Tensors will cause\n",
        "  # PyTorch to build a computational graph, allowing automatic computation of\n",
        "  # gradients. Since we are no longer implementing the backward pass by hand we\n",
        "  # don't need to keep references to intermediate values.\n",
        "  # Note that F.linear(x, w, b) is equivalent to x.mm(w.t()) + b\n",
        "  # For ReLU, you can also use `.clamp(min=0)`, equivalent to `F.relu()`\n",
        "\n",
        "  x = F.relu(F.linear(x, w1, b1))\n",
        "  x = F.linear(x, w2, b2)\n",
        "  return x\n",
        "    \n",
        "\n",
        "def two_layer_fc_test():\n",
        "  hidden_layer_size = 42\n",
        "  x = torch.zeros((64, 3, 16, 16), dtype=dtype)  # minibatch size 64, feature dimension 3*16*16\n",
        "  w1 = torch.zeros((hidden_layer_size, 3*16*16), dtype=dtype)\n",
        "  b1 = torch.zeros((hidden_layer_size,), dtype=dtype)\n",
        "  w2 = torch.zeros((10, hidden_layer_size), dtype=dtype)\n",
        "  b2 = torch.zeros((10,), dtype=dtype)\n",
        "  scores = two_layer_fc(x, [w1, b1, w2, b2])\n",
        "  print('Output size:', list(scores.size()))  # you should see [64, 10]\n",
        "\n",
        "two_layer_fc_test()"
      ],
      "execution_count": null,
      "outputs": [
        {
          "output_type": "stream",
          "text": [
            "Output size: [64, 10]\n"
          ],
          "name": "stdout"
        }
      ]
    },
    {
      "cell_type": "markdown",
      "metadata": {
        "id": "WDyPVGaXA0_J",
        "colab_type": "text"
      },
      "source": [
        "#Barebones three layered Conv-net."
      ]
    },
    {
      "cell_type": "code",
      "metadata": {
        "id": "pRYLV2Uh_TQ2",
        "colab_type": "code",
        "colab": {}
      },
      "source": [
        "def three_layer_convnet(x, params):\n",
        "  \"\"\"\n",
        "  Performs the forward pass of a three-layer convolutional network with the\n",
        "  architecture defined above.\n",
        "\n",
        "  Inputs:\n",
        "  - x: A PyTorch Tensor of shape (N, C, H, W) giving a minibatch of images\n",
        "  - params: A list of PyTorch Tensors giving the weights and biases for the\n",
        "    network; should contain the following:\n",
        "    - conv_w1: PyTorch Tensor of shape (channel_1, C, KH1, KW1) giving weights\n",
        "      for the first convolutional layer\n",
        "    - conv_b1: PyTorch Tensor of shape (channel_1,) giving biases for the first\n",
        "      convolutional layer\n",
        "    - conv_w2: PyTorch Tensor of shape (channel_2, channel_1, KH2, KW2) giving\n",
        "      weights for the second convolutional layer\n",
        "    - conv_b2: PyTorch Tensor of shape (channel_2,) giving biases for the second\n",
        "      convolutional layer\n",
        "    - fc_w: PyTorch Tensor giving weights for the fully-connected layer. Can you\n",
        "      figure out what the shape should be?\n",
        "    - fc_b: PyTorch Tensor giving biases for the fully-connected layer. Can you\n",
        "      figure out what the shape should be?\n",
        "  \n",
        "  Returns:\n",
        "  - scores: PyTorch Tensor of shape (N, C) giving classification scores for x\n",
        "  \"\"\"\n",
        "  conv_w1, conv_b1, conv_w2, conv_b2, fc_w, fc_b = params\n",
        "  scores = None\n",
        "  ##############################################################################\n",
        "  # TODO: Implement the forward pass for the three-layer ConvNet.              #\n",
        "  # Hint: F.linear, F.conv2d, F.relu, flatten                                  #\n",
        "  ##############################################################################\n",
        "  # Replace \"pass\" statement with your code\n",
        "  x = F.relu(F.conv2d(x, conv_w1, bias=conv_b1, padding=2))\n",
        "  x = F.relu(F.conv2d(x, conv_w2, bias=conv_b2, padding=1))\n",
        "  x = flatten(x)\n",
        "  scores = F.linear(x, fc_w, fc_b) ##shape of w = C, ch_2*32*32, b=C\n",
        "  ################################################################################\n",
        "  #                                 END OF YOUR CODE                             #\n",
        "  ################################################################################\n",
        "  return scores"
      ],
      "execution_count": null,
      "outputs": []
    },
    {
      "cell_type": "code",
      "metadata": {
        "id": "ZmHtkGC-F61A",
        "colab_type": "code",
        "colab": {
          "base_uri": "https://localhost:8080/",
          "height": 34
        },
        "outputId": "e4d21cd9-1441-41a3-d41c-abefdb0c4524"
      },
      "source": [
        "def three_layer_convnet_test():\n",
        "  x = torch.zeros((64, 3, 32, 32), dtype=dtype)  # minibatch size 64, image size [3, 32, 32]\n",
        "\n",
        "  conv_w1 = torch.zeros((6, 3, 5, 5), dtype=dtype)  # [out_channel, in_channel, kernel_H, kernel_W]\n",
        "  conv_b1 = torch.zeros((6,))  # out_channel\n",
        "  conv_w2 = torch.zeros((9, 6, 3, 3), dtype=dtype)  # [out_channel, in_channel, kernel_H, kernel_W]\n",
        "  conv_b2 = torch.zeros((9,))  # out_channel\n",
        "\n",
        "  # you must calculate the shape of the tensor after two conv layers, before the fully-connected layer\n",
        "  fc_w = torch.zeros((10, 9 * 32 * 32))\n",
        "  fc_b = torch.zeros(10)\n",
        "\n",
        "  scores = three_layer_convnet(x, [conv_w1, conv_b1, conv_w2, conv_b2, fc_w, fc_b])\n",
        "  print('Output size:', list(scores.size()))  # you should see [64, 10]\n",
        "three_layer_convnet_test()"
      ],
      "execution_count": null,
      "outputs": [
        {
          "output_type": "stream",
          "text": [
            "Output size: [64, 10]\n"
          ],
          "name": "stdout"
        }
      ]
    },
    {
      "cell_type": "markdown",
      "metadata": {
        "id": "AnfGtSTILt1L",
        "colab_type": "text"
      },
      "source": [
        "##Kaiming Initialization \n",
        "Using Kaiming initialization for the weights\n"
      ]
    },
    {
      "cell_type": "code",
      "metadata": {
        "id": "sCA-pQVAF_CK",
        "colab_type": "code",
        "colab": {
          "base_uri": "https://localhost:8080/",
          "height": 121
        },
        "outputId": "5ce218d3-aa0d-4c5c-c530-da3bc9d47468"
      },
      "source": [
        "fix_random_seed(0)\n",
        "\n",
        "# Create a weight of shape [3 x 5]\n",
        "print(nn.init.kaiming_normal_(torch.empty(3, 5, dtype=dtype, device=device)))\n",
        "print(nn.init.zeros_(torch.empty(3, 5, dtype=dtype, device=device)))"
      ],
      "execution_count": null,
      "outputs": [
        {
          "output_type": "stream",
          "text": [
            "tensor([[ 0.9746, -0.1856, -1.3780,  0.3595, -0.6859],\n",
            "        [-0.8845,  0.2551,  0.5300, -0.4549, -0.2551],\n",
            "        [-0.3773,  0.1151, -0.5418,  0.6961, -0.6775]])\n",
            "tensor([[0., 0., 0., 0., 0.],\n",
            "        [0., 0., 0., 0., 0.],\n",
            "        [0., 0., 0., 0., 0.]])\n"
          ],
          "name": "stdout"
        }
      ]
    },
    {
      "cell_type": "markdown",
      "metadata": {
        "id": "4XWlMXx-NWKY",
        "colab_type": "text"
      },
      "source": [
        "###Method to check the accuracy of our models.\n",
        "Note: Whenc checking for accuracy gradients do not need to be calculated. In order to prevent the computational graph from being built we specify `torch.no_grad()`\n"
      ]
    },
    {
      "cell_type": "code",
      "metadata": {
        "id": "tTquibrENC7q",
        "colab_type": "code",
        "colab": {}
      },
      "source": [
        "def check_accuracy_part2(loader, model_fn, params):\n",
        "  \"\"\"\n",
        "  Check the accuracy of a classification model.\n",
        "  \n",
        "  Inputs:\n",
        "  - loader: A DataLoader for the data split we want to check\n",
        "  - model_fn: A function that performs the forward pass of the model,\n",
        "    with the signature scores = model_fn(x, params)\n",
        "  - params: List of PyTorch Tensors giving parameters of the model\n",
        "  \n",
        "  Returns: Nothing, but prints the accuracy of the model\n",
        "  \"\"\"\n",
        "  split = 'val' if loader.dataset.train else 'test'\n",
        "  print('Checking accuracy on the %s set' % split)\n",
        "  num_correct, num_samples = 0, 0\n",
        "  with torch.no_grad():\n",
        "    for x, y in loader:\n",
        "      x = x.to(device=device, dtype=dtype)  # move to device, e.g. GPU\n",
        "      y = y.to(device=device, dtype=ltype)\n",
        "      scores = model_fn(x, params)\n",
        "      _, preds = scores.max(1)\n",
        "      num_correct += (preds == y).sum()\n",
        "      num_samples += preds.size(0)\n",
        "    acc = float(num_correct) / num_samples\n",
        "    print('Got %d / %d correct (%.2f%%)' % (num_correct, num_samples, 100 * acc))"
      ],
      "execution_count": null,
      "outputs": []
    },
    {
      "cell_type": "markdown",
      "metadata": {
        "id": "3D9SfI5LO6Jk",
        "colab_type": "text"
      },
      "source": [
        "###Barebones Pytorch: Training loop\n",
        "Basic training loop using stocastic gradiant descent wothout momentum. We will use `torch.nn.functional.cross_entropy` to compute the loss. "
      ]
    },
    {
      "cell_type": "code",
      "metadata": {
        "id": "ArqyBwGyOwCh",
        "colab_type": "code",
        "colab": {}
      },
      "source": [
        "def train_part2(model_fn, params, learning_rate):\n",
        "  \"\"\"\n",
        "  Train a model on CIFAR-10.\n",
        "  \n",
        "  Inputs:\n",
        "  - model_fn: A Python function that performs the forward pass of the model.\n",
        "    It should have the signature scores = model_fn(x, params) where x is a\n",
        "    PyTorch Tensor of image data, params is a list of PyTorch Tensors giving\n",
        "    model weights, and scores is a PyTorch Tensor of shape (N, C) giving\n",
        "    scores for the elements in x.\n",
        "  - params: List of PyTorch Tensors giving weights for the model\n",
        "  - learning_rate: Python scalar giving the learning rate to use for SGD\n",
        "  \n",
        "  Returns: Nothing\n",
        "  \"\"\"\n",
        "  for t, (x, y) in enumerate(loader_train):\n",
        "    # Move the data to the proper device (GPU or CPU)\n",
        "    x = x.to(device=device, dtype=dtype)\n",
        "    y = y.to(device=device, dtype=ltype)\n",
        "\n",
        "    # Forward pass: compute scores and loss\n",
        "    scores = model_fn(x, params)\n",
        "    loss = F.cross_entropy(scores, y)\n",
        "\n",
        "    # Backward pass: PyTorch figures out which Tensors in the computational\n",
        "    # graph has requires_grad=True and uses backpropagation to compute the\n",
        "    # gradient of the loss with respect to these Tensors, and stores the\n",
        "    # gradients in the .grad attribute of each Tensor.\n",
        "    loss.backward()\n",
        "\n",
        "    # Update parameters. We don't want to backpropagate through the\n",
        "    # parameter updates, so we scope the updates under a torch.no_grad()\n",
        "    # context manager to prevent a computational graph from being built.\n",
        "    with torch.no_grad():\n",
        "      for w in params:\n",
        "        if w.requires_grad:\n",
        "          w -= learning_rate * w.grad\n",
        "\n",
        "          # Manually zero the gradients after running the backward pass\n",
        "          w.grad.zero_()\n",
        "\n",
        "    if t % print_every == 0 or t == len(loader_train)-1:\n",
        "      print('Iteration %d, loss = %.4f' % (t, loss.item()))\n",
        "      check_accuracy_part2(loader_val, model_fn, params)\n",
        "      print()"
      ],
      "execution_count": null,
      "outputs": []
    },
    {
      "cell_type": "markdown",
      "metadata": {
        "id": "nCGlf8QocD7N",
        "colab_type": "text"
      },
      "source": [
        "###Training a twolayered fully connected NN.\n",
        "Each mini-batch has shape `[64, 3, 32, 32]`. \n",
        "After flattening the shape of input will be `[64, 3 * 32 * 32]`. \n",
        "The output will be `[64, 10]`. This is because there are 10 classes. Each row is the probability distribution of the input over the 10 classes. "
      ]
    },
    {
      "cell_type": "code",
      "metadata": {
        "id": "MCIV57xnRGjd",
        "colab_type": "code",
        "colab": {
          "base_uri": "https://localhost:8080/",
          "height": 642
        },
        "outputId": "62ee5e90-f8f2-4fcf-946e-22f2d666fe11"
      },
      "source": [
        "fix_random_seed(0)\n",
        "\n",
        "C, H, W = 3, 32, 32\n",
        "num_classes = 10\n",
        "\n",
        "hidden_layer_size = 4000\n",
        "learning_rate = 1e-2\n",
        "\n",
        "w1 = nn.init.kaiming_normal_(torch.empty(hidden_layer_size, C*H*W, dtype=dtype, device=device))\n",
        "w1.requires_grad = True\n",
        "b1 = nn.init.zeros_(torch.empty(hidden_layer_size, dtype=dtype, device=device))\n",
        "b1.requires_grad = True\n",
        "w2 = nn.init.kaiming_normal_(torch.empty(num_classes, hidden_layer_size, dtype=dtype, device=device))\n",
        "w2.requires_grad = True\n",
        "b2 = nn.init.zeros_(torch.empty(num_classes, dtype=dtype, device=device))\n",
        "b2.requires_grad = True\n",
        "\n",
        "train_part2(two_layer_fc, [w1, b1, w2, b2], learning_rate=learning_rate)"
      ],
      "execution_count": null,
      "outputs": [
        {
          "output_type": "stream",
          "text": [
            "Iteration 0, loss = 3.9070\n",
            "Checking accuracy on the val set\n",
            "Got 148 / 1000 correct (14.80%)\n",
            "\n",
            "Iteration 100, loss = 1.9613\n",
            "Checking accuracy on the val set\n",
            "Got 356 / 1000 correct (35.60%)\n",
            "\n",
            "Iteration 200, loss = 2.1789\n",
            "Checking accuracy on the val set\n",
            "Got 381 / 1000 correct (38.10%)\n",
            "\n",
            "Iteration 300, loss = 1.9417\n",
            "Checking accuracy on the val set\n",
            "Got 394 / 1000 correct (39.40%)\n",
            "\n",
            "Iteration 400, loss = 2.0686\n",
            "Checking accuracy on the val set\n",
            "Got 411 / 1000 correct (41.10%)\n",
            "\n",
            "Iteration 500, loss = 1.7865\n",
            "Checking accuracy on the val set\n",
            "Got 412 / 1000 correct (41.20%)\n",
            "\n",
            "Iteration 600, loss = 1.6491\n",
            "Checking accuracy on the val set\n",
            "Got 437 / 1000 correct (43.70%)\n",
            "\n",
            "Iteration 700, loss = 2.1760\n",
            "Checking accuracy on the val set\n",
            "Got 413 / 1000 correct (41.30%)\n",
            "\n",
            "Iteration 765, loss = 1.2554\n",
            "Checking accuracy on the val set\n",
            "Got 416 / 1000 correct (41.60%)\n",
            "\n"
          ],
          "name": "stdout"
        }
      ]
    },
    {
      "cell_type": "markdown",
      "metadata": {
        "id": "scQa-feViC5U",
        "colab_type": "text"
      },
      "source": [
        "###Barebones: Training a ConvNet\n",
        "In the three layered NN, we are using: \n",
        "\n",
        "1. Convolutional layer (with bias) with 32 5x5 filters, with zero-padding of 2 \n",
        "2. ReLU\n",
        "3. Convolutional layer (with bias) with 16 3x3 filters, with zero-padding of 1\n",
        "4. ReLU\n",
        "5. Fully-connected layer (with bias) to compute scores for 10 classes\n",
        "\n",
        "Initializing weights using random_weights and biases as zeros. \n"
      ]
    },
    {
      "cell_type": "code",
      "metadata": {
        "id": "aL97WoZXjb8F",
        "colab_type": "code",
        "colab": {
          "base_uri": "https://localhost:8080/",
          "height": 642
        },
        "outputId": "ee325f3c-570a-4051-d920-0a6efb3156e1"
      },
      "source": [
        "fix_random_seed(0)\n",
        "\n",
        "C, H, W = 3, 32, 32\n",
        "num_classes = 10\n",
        "\n",
        "channel_1 = 32\n",
        "channel_2 = 16\n",
        "kernel_size_1 = 5\n",
        "kernel_size_2 = 3\n",
        "\n",
        "learning_rate = 3e-3\n",
        "\n",
        "conv_w1 = None\n",
        "conv_b1 = None\n",
        "conv_w2 = None\n",
        "conv_b2 = None\n",
        "fc_w = None\n",
        "fc_b = None\n",
        "\n",
        "################################################################################\n",
        "# TODO: Define and initialize the parameters of a three-layer ConvNet          #\n",
        "#       using nn.init.kaiming_normal_.                                         #\n",
        "################################################################################\n",
        "# Replace \"pass\" statement with your code\n",
        "conv_w1 = nn.init.kaiming_normal_(torch.empty(channel_1, C, kernel_size_1, kernel_size_1,\n",
        "                                              dtype=dtype, device=device))\n",
        "conv_w1.requires_grad=True\n",
        "conv_b1 = nn.init.zeros_(torch.empty(channel_1))\n",
        "conv_w2 = nn.init.kaiming_normal_(torch.empty(channel_2, channel_1, kernel_size_2, kernel_size_2,\n",
        "                                              dtype=dtype, device=device))\n",
        "conv_w2.requires_grad=True\n",
        "conv_b2 = nn.init.zeros_(torch.empty(channel_2))\n",
        "conv_b2.requires_grad=True\n",
        "fc_w = nn.init.kaiming_normal_(torch.empty(num_classes, channel_2 * H * W,\n",
        "                                           dtype=dtype, device=device))\n",
        "fc_w.requires_grad=True\n",
        "fc_b = nn.init.zeros_(torch.empty(num_classes, dtype=dtype, device=device))\n",
        "fc_b.requires_grad=True\n",
        "################################################################################\n",
        "#                                 END OF YOUR CODE                             #\n",
        "################################################################################\n",
        "\n",
        "params = [conv_w1, conv_b1, conv_w2, conv_b2, fc_w, fc_b]\n",
        "train_part2(three_layer_convnet, params, learning_rate)"
      ],
      "execution_count": null,
      "outputs": [
        {
          "output_type": "stream",
          "text": [
            "Iteration 0, loss = 3.7824\n",
            "Checking accuracy on the val set\n",
            "Got 98 / 1000 correct (9.80%)\n",
            "\n",
            "Iteration 100, loss = 1.8615\n",
            "Checking accuracy on the val set\n",
            "Got 350 / 1000 correct (35.00%)\n",
            "\n",
            "Iteration 200, loss = 1.9028\n",
            "Checking accuracy on the val set\n",
            "Got 387 / 1000 correct (38.70%)\n",
            "\n",
            "Iteration 300, loss = 1.7744\n",
            "Checking accuracy on the val set\n",
            "Got 426 / 1000 correct (42.60%)\n",
            "\n",
            "Iteration 400, loss = 1.6251\n",
            "Checking accuracy on the val set\n",
            "Got 444 / 1000 correct (44.40%)\n",
            "\n",
            "Iteration 500, loss = 1.5612\n",
            "Checking accuracy on the val set\n",
            "Got 468 / 1000 correct (46.80%)\n",
            "\n",
            "Iteration 600, loss = 1.5234\n",
            "Checking accuracy on the val set\n",
            "Got 474 / 1000 correct (47.40%)\n",
            "\n",
            "Iteration 700, loss = 1.5810\n",
            "Checking accuracy on the val set\n",
            "Got 461 / 1000 correct (46.10%)\n",
            "\n",
            "Iteration 765, loss = 1.3091\n",
            "Checking accuracy on the val set\n",
            "Got 487 / 1000 correct (48.70%)\n",
            "\n"
          ],
          "name": "stdout"
        }
      ]
    },
    {
      "cell_type": "markdown",
      "metadata": {
        "id": "yoH2GL8YDh36",
        "colab_type": "text"
      },
      "source": [
        ""
      ]
    },
    {
      "cell_type": "code",
      "metadata": {
        "id": "p9xtJ6hRDhd8",
        "colab_type": "code",
        "colab": {}
      },
      "source": [
        ""
      ],
      "execution_count": null,
      "outputs": []
    }
  ]
}